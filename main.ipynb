{
 "cells": [
  {
   "cell_type": "code",
   "execution_count": null,
   "metadata": {},
   "outputs": [],
   "source": [
    "!git clone https://github.com/ialhashim/DenseDepth.git"
   ]
  },
  {
   "cell_type": "code",
   "execution_count": null,
   "metadata": {},
   "outputs": [],
   "source": [
    "from google.colab import drive\n",
    "drive.mount('/content/drive', force_remount=True)"
   ]
  },
  {
   "cell_type": "code",
   "execution_count": 2,
   "metadata": {},
   "outputs": [
    {
     "ename": "SyntaxError",
     "evalue": "invalid syntax (<ipython-input-2-ad61ece1d601>, line 4)",
     "output_type": "error",
     "traceback": [
      "\u001b[0;36m  File \u001b[0;32m\"<ipython-input-2-ad61ece1d601>\"\u001b[0;36m, line \u001b[0;32m4\u001b[0m\n\u001b[0;31m    python3 run.py --conf_dir ''\u001b[0m\n\u001b[0m              ^\u001b[0m\n\u001b[0;31mSyntaxError\u001b[0m\u001b[0;31m:\u001b[0m invalid syntax\n"
     ]
    }
   ],
   "source": [
    "\"\"\"\n",
    "Main file to run the model\n",
    "\"\"\"\n",
    "python3 run.py --conf_dir ''"
   ]
  },
  {
   "cell_type": "code",
   "execution_count": 14,
   "metadata": {},
   "outputs": [],
   "source": [
    "import albumentations as A\n",
    "from albumentations import *"
   ]
  },
  {
   "cell_type": "code",
   "execution_count": 16,
   "metadata": {},
   "outputs": [
    {
     "name": "stdout",
     "output_type": "stream",
     "text": [
      "['BasicIAATransform', 'BasicTransform', 'BboxParams', 'BboxProcessor', 'Blur', 'CLAHE', 'CenterCrop', 'ChannelDropout', 'ChannelShuffle', 'CoarseDropout', 'Compose', 'Crop', 'CropNonEmptyMaskIfExists', 'Cutout', 'Downscale', 'DualIAATransform', 'DualTransform', 'ElasticTransform', 'Equalize', 'FancyPCA', 'Flip', 'FromFloat', 'GaussNoise', 'GaussianBlur', 'GlassBlur', 'GridDistortion', 'GridDropout', 'HorizontalFlip', 'HueSaturationValue', 'IAAAdditiveGaussianNoise', 'IAAAffine', 'IAACropAndPad', 'IAAEmboss', 'IAAFliplr', 'IAAFlipud', 'IAAPerspective', 'IAAPiecewiseAffine', 'IAASharpen', 'IAASuperpixels', 'ISONoise', 'ImageCompression', 'ImageOnlyIAATransform', 'ImageOnlyTransform', 'InvertImg', 'JpegCompression', 'KeypointParams', 'Lambda', 'LongestMaxSize', 'MaskDropout', 'MedianBlur', 'MotionBlur', 'MultiplicativeNoise', 'NoOp', 'Normalize', 'OneOf', 'OneOrOther', 'OpticalDistortion', 'PadIfNeeded', 'Posterize', 'RGBShift', 'RandomBrightness', 'RandomBrightnessContrast', 'RandomContrast', 'RandomCrop', 'RandomCropNearBBox', 'RandomFog', 'RandomGamma', 'RandomGridShuffle', 'RandomRain', 'RandomResizedCrop', 'RandomRotate90', 'RandomScale', 'RandomShadow', 'RandomSizedBBoxSafeCrop', 'RandomSizedCrop', 'RandomSnow', 'RandomSunFlare', 'ReplayCompose', 'Resize', 'Rotate', 'ShiftScaleRotate', 'SmallestMaxSize', 'Solarize', 'ToFloat', 'ToGray', 'ToSepia', 'Transpose', 'VerticalFlip', '__builtins__', '__cached__', '__doc__', '__file__', '__loader__', '__name__', '__package__', '__path__', '__spec__', '__version__', 'absolute_import', 'augmentations', 'calculate_bbox_area', 'convert_bbox_from_albumentations', 'convert_bbox_to_albumentations', 'convert_bboxes_from_albumentations', 'convert_bboxes_to_albumentations', 'core', 'denormalize_bbox', 'denormalize_bboxes', 'filter_bboxes_by_visibility', 'from_dict', 'imgaug', 'load', 'normalize_bbox', 'normalize_bboxes', 'save', 'to_dict', 'to_tuple']\n",
      "<class 'albumentations.augmentations.transforms.CenterCrop'>\n"
     ]
    }
   ],
   "source": [
    "print(dir(A))\n",
    "print(globals()['CenterCrop'])\n"
   ]
  },
  {
   "cell_type": "code",
   "execution_count": null,
   "metadata": {},
   "outputs": [],
   "source": []
  }
 ],
 "metadata": {
  "kernelspec": {
   "display_name": "Python 3",
   "language": "python",
   "name": "python3"
  },
  "language_info": {
   "codemirror_mode": {
    "name": "ipython",
    "version": 3
   },
   "file_extension": ".py",
   "mimetype": "text/x-python",
   "name": "python",
   "nbconvert_exporter": "python",
   "pygments_lexer": "ipython3",
   "version": "3.6.6"
  }
 },
 "nbformat": 4,
 "nbformat_minor": 2
}
